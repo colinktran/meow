{
 "cells": [
  {
   "cell_type": "code",
   "execution_count": 1,
   "id": "408b6fbe-a043-4bb0-bfee-8b90cf879d96",
   "metadata": {},
   "outputs": [],
   "source": [
    "# Import libraries\n",
    "import numpy as np\n",
    "import pandas as pd\n",
    "import matplotlib.pyplot as plt\n",
    "from FlowCytometryTools import FCMeasurement"
   ]
  },
  {
   "cell_type": "code",
   "execution_count": 2,
   "id": "26650564-8251-4198-b27b-6c746444f112",
   "metadata": {},
   "outputs": [
    {
     "ename": "FileNotFoundError",
     "evalue": "[Errno 2] No such file or directory: 'example.fcs'",
     "output_type": "error",
     "traceback": [
      "\u001b[0;31m---------------------------------------------------------------------------\u001b[0m",
      "\u001b[0;31mFileNotFoundError\u001b[0m                         Traceback (most recent call last)",
      "Cell \u001b[0;32mIn[2], line 2\u001b[0m\n\u001b[1;32m      1\u001b[0m fcs_file \u001b[38;5;241m=\u001b[39m \u001b[38;5;124m'\u001b[39m\u001b[38;5;124mexample.fcs\u001b[39m\u001b[38;5;124m'\u001b[39m\n\u001b[0;32m----> 2\u001b[0m sample \u001b[38;5;241m=\u001b[39m \u001b[43mFCMeasurement\u001b[49m\u001b[43m(\u001b[49m\u001b[43mID\u001b[49m\u001b[38;5;241;43m=\u001b[39;49m\u001b[38;5;124;43m'\u001b[39;49m\u001b[38;5;124;43mTest Sample\u001b[39;49m\u001b[38;5;124;43m'\u001b[39;49m\u001b[43m,\u001b[49m\u001b[43m \u001b[49m\u001b[43mdatafile\u001b[49m\u001b[38;5;241;43m=\u001b[39;49m\u001b[43mfcs_file\u001b[49m\u001b[43m)\u001b[49m\n",
      "File \u001b[0;32m~/flow_analysis/venv/lib/python3.9/site-packages/FlowCytometryTools/core/bases.py:169\u001b[0m, in \u001b[0;36mMeasurement.__init__\u001b[0;34m(self, ID, datafile, readdata, readdata_kwargs, metafile, readmeta, readmeta_kwargs)\u001b[0m\n\u001b[1;32m    167\u001b[0m \u001b[38;5;28mself\u001b[39m\u001b[38;5;241m.\u001b[39mreadmeta_kwargs \u001b[38;5;241m=\u001b[39m readmeta_kwargs\n\u001b[1;32m    168\u001b[0m \u001b[38;5;28;01mif\u001b[39;00m readdata: \u001b[38;5;28mself\u001b[39m\u001b[38;5;241m.\u001b[39mset_data()\n\u001b[0;32m--> 169\u001b[0m \u001b[38;5;28;01mif\u001b[39;00m readmeta: \u001b[38;5;28;43mself\u001b[39;49m\u001b[38;5;241;43m.\u001b[39;49m\u001b[43mset_meta\u001b[49m\u001b[43m(\u001b[49m\u001b[43m)\u001b[49m\n\u001b[1;32m    170\u001b[0m \u001b[38;5;28mself\u001b[39m\u001b[38;5;241m.\u001b[39mposition \u001b[38;5;241m=\u001b[39m {}\n\u001b[1;32m    171\u001b[0m \u001b[38;5;28mself\u001b[39m\u001b[38;5;241m.\u001b[39mhistory \u001b[38;5;241m=\u001b[39m []\n",
      "File \u001b[0;32m~/flow_analysis/venv/lib/python3.9/site-packages/FlowCytometryTools/core/bases.py:250\u001b[0m, in \u001b[0;36mMeasurement.set_meta\u001b[0;34m(self, meta, **kwargs)\u001b[0m\n\u001b[1;32m    245\u001b[0m \u001b[38;5;250m\u001b[39m\u001b[38;5;124;03m\"\"\"\u001b[39;00m\n\u001b[1;32m    246\u001b[0m \u001b[38;5;124;03mAssign values to self.meta.\u001b[39;00m\n\u001b[1;32m    247\u001b[0m \u001b[38;5;124;03mMeta is not returned\u001b[39;00m\n\u001b[1;32m    248\u001b[0m \u001b[38;5;124;03m\"\"\"\u001b[39;00m\n\u001b[1;32m    249\u001b[0m \u001b[38;5;28;01mif\u001b[39;00m meta \u001b[38;5;129;01mis\u001b[39;00m \u001b[38;5;28;01mNone\u001b[39;00m:\n\u001b[0;32m--> 250\u001b[0m     meta \u001b[38;5;241m=\u001b[39m \u001b[38;5;28;43mself\u001b[39;49m\u001b[38;5;241;43m.\u001b[39;49m\u001b[43mget_meta\u001b[49m\u001b[43m(\u001b[49m\u001b[38;5;241;43m*\u001b[39;49m\u001b[38;5;241;43m*\u001b[39;49m\u001b[43mkwargs\u001b[49m\u001b[43m)\u001b[49m\n\u001b[1;32m    251\u001b[0m \u001b[38;5;28msetattr\u001b[39m(\u001b[38;5;28mself\u001b[39m, \u001b[38;5;124m'\u001b[39m\u001b[38;5;124m_meta\u001b[39m\u001b[38;5;124m'\u001b[39m, meta)\n",
      "File \u001b[0;32m~/flow_analysis/venv/lib/python3.9/site-packages/FlowCytometryTools/core/bases.py:290\u001b[0m, in \u001b[0;36mMeasurement.get_meta\u001b[0;34m(self, **kwargs)\u001b[0m\n\u001b[1;32m    285\u001b[0m \u001b[38;5;28;01mdef\u001b[39;00m\u001b[38;5;250m \u001b[39m\u001b[38;5;21mget_meta\u001b[39m(\u001b[38;5;28mself\u001b[39m, \u001b[38;5;241m*\u001b[39m\u001b[38;5;241m*\u001b[39mkwargs):\n\u001b[1;32m    286\u001b[0m \u001b[38;5;250m    \u001b[39m\u001b[38;5;124;03m\"\"\"\u001b[39;00m\n\u001b[1;32m    287\u001b[0m \u001b[38;5;124;03m    Get the measurement metadata.\u001b[39;00m\n\u001b[1;32m    288\u001b[0m \u001b[38;5;124;03m    If not metadata is not set, read from 'self.metafile' using 'self.read_meta'.\u001b[39;00m\n\u001b[1;32m    289\u001b[0m \u001b[38;5;124;03m    \"\"\"\u001b[39;00m\n\u001b[0;32m--> 290\u001b[0m     \u001b[38;5;28;01mreturn\u001b[39;00m \u001b[38;5;28;43mself\u001b[39;49m\u001b[38;5;241;43m.\u001b[39;49m\u001b[43m_get_attr_from_file\u001b[49m\u001b[43m(\u001b[49m\u001b[38;5;124;43m'\u001b[39;49m\u001b[38;5;124;43mmeta\u001b[39;49m\u001b[38;5;124;43m'\u001b[39;49m\u001b[43m,\u001b[49m\u001b[43m \u001b[49m\u001b[38;5;241;43m*\u001b[39;49m\u001b[38;5;241;43m*\u001b[39;49m\u001b[43mkwargs\u001b[49m\u001b[43m)\u001b[49m\n",
      "File \u001b[0;32m~/flow_analysis/venv/lib/python3.9/site-packages/FlowCytometryTools/core/bases.py:271\u001b[0m, in \u001b[0;36mMeasurement._get_attr_from_file\u001b[0;34m(self, name, **kwargs)\u001b[0m\n\u001b[1;32m    269\u001b[0m \u001b[38;5;28;01melse\u001b[39;00m:\n\u001b[1;32m    270\u001b[0m     parser_kwargs \u001b[38;5;241m=\u001b[39m \u001b[38;5;28mgetattr\u001b[39m(\u001b[38;5;28mself\u001b[39m, \u001b[38;5;124m'\u001b[39m\u001b[38;5;124mread\u001b[39m\u001b[38;5;132;01m%s\u001b[39;00m\u001b[38;5;124m_kwargs\u001b[39m\u001b[38;5;124m'\u001b[39m \u001b[38;5;241m%\u001b[39m name, {})\n\u001b[0;32m--> 271\u001b[0m     value \u001b[38;5;241m=\u001b[39m \u001b[38;5;28;43mgetattr\u001b[39;49m\u001b[43m(\u001b[49m\u001b[38;5;28;43mself\u001b[39;49m\u001b[43m,\u001b[49m\u001b[43m \u001b[49m\u001b[38;5;124;43m'\u001b[39;49m\u001b[38;5;124;43mread_\u001b[39;49m\u001b[38;5;132;43;01m%s\u001b[39;49;00m\u001b[38;5;124;43m'\u001b[39;49m\u001b[43m \u001b[49m\u001b[38;5;241;43m%\u001b[39;49m\u001b[43m \u001b[49m\u001b[43mname\u001b[49m\u001b[43m)\u001b[49m\u001b[43m(\u001b[49m\u001b[38;5;241;43m*\u001b[39;49m\u001b[38;5;241;43m*\u001b[39;49m\u001b[43mparser_kwargs\u001b[49m\u001b[43m)\u001b[49m\n\u001b[1;32m    272\u001b[0m \u001b[38;5;28;01mreturn\u001b[39;00m value\n",
      "File \u001b[0;32m~/flow_analysis/venv/lib/python3.9/site-packages/FlowCytometryTools/core/containers.py:66\u001b[0m, in \u001b[0;36mFCMeasurement.read_meta\u001b[0;34m(self, **kwargs)\u001b[0m\n\u001b[1;32m     64\u001b[0m \u001b[38;5;28;01mif\u001b[39;00m \u001b[38;5;124m'\u001b[39m\u001b[38;5;124mchannel_naming\u001b[39m\u001b[38;5;124m'\u001b[39m \u001b[38;5;129;01min\u001b[39;00m \u001b[38;5;28mself\u001b[39m\u001b[38;5;241m.\u001b[39mreaddata_kwargs:\n\u001b[1;32m     65\u001b[0m     kwargs[\u001b[38;5;124m'\u001b[39m\u001b[38;5;124mchannel_naming\u001b[39m\u001b[38;5;124m'\u001b[39m] \u001b[38;5;241m=\u001b[39m \u001b[38;5;28mself\u001b[39m\u001b[38;5;241m.\u001b[39mreaddata_kwargs[\u001b[38;5;124m'\u001b[39m\u001b[38;5;124mchannel_naming\u001b[39m\u001b[38;5;124m'\u001b[39m]\n\u001b[0;32m---> 66\u001b[0m meta \u001b[38;5;241m=\u001b[39m \u001b[43mparse_fcs\u001b[49m\u001b[43m(\u001b[49m\u001b[38;5;28;43mself\u001b[39;49m\u001b[38;5;241;43m.\u001b[39;49m\u001b[43mdatafile\u001b[49m\u001b[43m,\u001b[49m\n\u001b[1;32m     67\u001b[0m \u001b[43m                 \u001b[49m\u001b[43mreformat_meta\u001b[49m\u001b[38;5;241;43m=\u001b[39;49m\u001b[38;5;28;43;01mTrue\u001b[39;49;00m\u001b[43m,\u001b[49m\n\u001b[1;32m     68\u001b[0m \u001b[43m                 \u001b[49m\u001b[43mmeta_data_only\u001b[49m\u001b[38;5;241;43m=\u001b[39;49m\u001b[38;5;28;43;01mTrue\u001b[39;49;00m\u001b[43m,\u001b[49m\u001b[43m \u001b[49m\u001b[38;5;241;43m*\u001b[39;49m\u001b[38;5;241;43m*\u001b[39;49m\u001b[43mkwargs\u001b[49m\u001b[43m)\u001b[49m\n\u001b[1;32m     69\u001b[0m \u001b[38;5;28;01mreturn\u001b[39;00m meta\n",
      "File \u001b[0;32m~/flow_analysis/venv/lib/python3.9/site-packages/fcsparser/api.py:758\u001b[0m, in \u001b[0;36mparse\u001b[0;34m(path, meta_data_only, compensate, channel_naming, reformat_meta, data_set, dtype, encoding)\u001b[0m\n\u001b[1;32m    752\u001b[0m     \u001b[38;5;28;01mraise\u001b[39;00m ParserFeatureNotImplementedError(\n\u001b[1;32m    753\u001b[0m         \u001b[38;5;124m\"\u001b[39m\u001b[38;5;124mCompensation has not been implemented yet.\u001b[39m\u001b[38;5;124m\"\u001b[39m\n\u001b[1;32m    754\u001b[0m     )\n\u001b[1;32m    756\u001b[0m read_data \u001b[38;5;241m=\u001b[39m \u001b[38;5;129;01mnot\u001b[39;00m meta_data_only\n\u001b[0;32m--> 758\u001b[0m fcs_parser \u001b[38;5;241m=\u001b[39m \u001b[43mFCSParser\u001b[49m\u001b[43m(\u001b[49m\n\u001b[1;32m    759\u001b[0m \u001b[43m    \u001b[49m\u001b[43mpath\u001b[49m\u001b[43m,\u001b[49m\n\u001b[1;32m    760\u001b[0m \u001b[43m    \u001b[49m\u001b[43mread_data\u001b[49m\u001b[38;5;241;43m=\u001b[39;49m\u001b[43mread_data\u001b[49m\u001b[43m,\u001b[49m\n\u001b[1;32m    761\u001b[0m \u001b[43m    \u001b[49m\u001b[43mchannel_naming\u001b[49m\u001b[38;5;241;43m=\u001b[39;49m\u001b[43mchannel_naming\u001b[49m\u001b[43m,\u001b[49m\n\u001b[1;32m    762\u001b[0m \u001b[43m    \u001b[49m\u001b[43mdata_set\u001b[49m\u001b[38;5;241;43m=\u001b[39;49m\u001b[43mdata_set\u001b[49m\u001b[43m,\u001b[49m\n\u001b[1;32m    763\u001b[0m \u001b[43m    \u001b[49m\u001b[43mencoding\u001b[49m\u001b[38;5;241;43m=\u001b[39;49m\u001b[43mencoding\u001b[49m\u001b[43m,\u001b[49m\n\u001b[1;32m    764\u001b[0m \u001b[43m\u001b[49m\u001b[43m)\u001b[49m\n\u001b[1;32m    766\u001b[0m \u001b[38;5;28;01mif\u001b[39;00m reformat_meta:\n\u001b[1;32m    767\u001b[0m     fcs_parser\u001b[38;5;241m.\u001b[39mreformat_meta()\n",
      "File \u001b[0;32m~/flow_analysis/venv/lib/python3.9/site-packages/fcsparser/api.py:200\u001b[0m, in \u001b[0;36mFCSParser.__init__\u001b[0;34m(self, path, read_data, channel_naming, data_set, encoding)\u001b[0m\n\u001b[1;32m    197\u001b[0m \u001b[38;5;28mself\u001b[39m\u001b[38;5;241m.\u001b[39mpath \u001b[38;5;241m=\u001b[39m path\n\u001b[1;32m    199\u001b[0m \u001b[38;5;28;01mif\u001b[39;00m path:\n\u001b[0;32m--> 200\u001b[0m     \u001b[38;5;28;01mwith\u001b[39;00m \u001b[38;5;28;43mopen\u001b[39;49m\u001b[43m(\u001b[49m\u001b[43mpath\u001b[49m\u001b[43m,\u001b[49m\u001b[43m \u001b[49m\u001b[38;5;124;43m\"\u001b[39;49m\u001b[38;5;124;43mrb\u001b[39;49m\u001b[38;5;124;43m\"\u001b[39;49m\u001b[43m)\u001b[49m \u001b[38;5;28;01mas\u001b[39;00m f:\n\u001b[1;32m    201\u001b[0m         \u001b[38;5;28mself\u001b[39m\u001b[38;5;241m.\u001b[39mload_file(f, data_set\u001b[38;5;241m=\u001b[39mdata_set, read_data\u001b[38;5;241m=\u001b[39mread_data)\n",
      "\u001b[0;31mFileNotFoundError\u001b[0m: [Errno 2] No such file or directory: 'example.fcs'"
     ]
    }
   ],
   "source": [
    "fcs_file = 'example.fcs'\n",
    "sample = FCMeasurement(ID='Test Sample', datafile=fcs_file)"
   ]
  },
  {
   "cell_type": "code",
   "execution_count": 3,
   "id": "2a3493da-ede6-4f6f-9942-5d7a71d6412c",
   "metadata": {},
   "outputs": [
    {
     "data": {
      "text/plain": [
       "'/Users/colinktran/flow_analysis'"
      ]
     },
     "execution_count": 3,
     "metadata": {},
     "output_type": "execute_result"
    }
   ],
   "source": [
    "import os\n",
    "os.getcwd()\n"
   ]
  },
  {
   "cell_type": "code",
   "execution_count": 4,
   "id": "5fd37978-1951-4e03-b452-9b09507a7a1b",
   "metadata": {},
   "outputs": [],
   "source": [
    "from FlowCytometryTools import FCMeasurement\n",
    "\n",
    "fcs_file = '/Users/colinktran/Downloads/example.fcs'  # full path to file\n",
    "sample = FCMeasurement(ID='Test Sample', datafile=fcs_file)\n"
   ]
  },
  {
   "cell_type": "code",
   "execution_count": 5,
   "id": "0e7e236b-1b29-4652-b23d-d6e39cee26f8",
   "metadata": {},
   "outputs": [
    {
     "data": {
      "text/html": [
       "<div>\n",
       "<style scoped>\n",
       "    .dataframe tbody tr th:only-of-type {\n",
       "        vertical-align: middle;\n",
       "    }\n",
       "\n",
       "    .dataframe tbody tr th {\n",
       "        vertical-align: top;\n",
       "    }\n",
       "\n",
       "    .dataframe thead th {\n",
       "        text-align: right;\n",
       "    }\n",
       "</style>\n",
       "<table border=\"1\" class=\"dataframe\">\n",
       "  <thead>\n",
       "    <tr style=\"text-align: right;\">\n",
       "      <th></th>\n",
       "      <th>Time</th>\n",
       "      <th>FSC-A</th>\n",
       "      <th>FSC-H</th>\n",
       "      <th>FSC-W</th>\n",
       "      <th>SSC-A</th>\n",
       "      <th>SSC-H</th>\n",
       "      <th>SSC-W</th>\n",
       "      <th>HV 450-A</th>\n",
       "      <th>PE-A</th>\n",
       "      <th>APC-A</th>\n",
       "    </tr>\n",
       "  </thead>\n",
       "  <tbody>\n",
       "    <tr>\n",
       "      <th>0</th>\n",
       "      <td>0.0</td>\n",
       "      <td>258864.437500</td>\n",
       "      <td>96190.578125</td>\n",
       "      <td>176368.0</td>\n",
       "      <td>79497.898438</td>\n",
       "      <td>89890.687500</td>\n",
       "      <td>57959.0</td>\n",
       "      <td>7806.560059</td>\n",
       "      <td>2841.600098</td>\n",
       "      <td>2076.479980</td>\n",
       "    </tr>\n",
       "    <tr>\n",
       "      <th>1</th>\n",
       "      <td>0.0</td>\n",
       "      <td>111398.281250</td>\n",
       "      <td>74335.093750</td>\n",
       "      <td>98212.0</td>\n",
       "      <td>40277.148438</td>\n",
       "      <td>70344.398438</td>\n",
       "      <td>37524.0</td>\n",
       "      <td>861.360046</td>\n",
       "      <td>4878.399902</td>\n",
       "      <td>1773.239990</td>\n",
       "    </tr>\n",
       "    <tr>\n",
       "      <th>2</th>\n",
       "      <td>0.1</td>\n",
       "      <td>83984.757812</td>\n",
       "      <td>71921.718750</td>\n",
       "      <td>76528.0</td>\n",
       "      <td>17564.548828</td>\n",
       "      <td>68698.398438</td>\n",
       "      <td>16756.0</td>\n",
       "      <td>3987.670166</td>\n",
       "      <td>4.000000</td>\n",
       "      <td>395.639984</td>\n",
       "    </tr>\n",
       "    <tr>\n",
       "      <th>3</th>\n",
       "      <td>0.1</td>\n",
       "      <td>262143.000000</td>\n",
       "      <td>77287.625000</td>\n",
       "      <td>222284.0</td>\n",
       "      <td>102825.148438</td>\n",
       "      <td>94332.671875</td>\n",
       "      <td>71436.0</td>\n",
       "      <td>5668.680176</td>\n",
       "      <td>343.200012</td>\n",
       "      <td>1406.159912</td>\n",
       "    </tr>\n",
       "    <tr>\n",
       "      <th>4</th>\n",
       "      <td>0.1</td>\n",
       "      <td>94355.437500</td>\n",
       "      <td>71006.570312</td>\n",
       "      <td>87086.0</td>\n",
       "      <td>21789.199219</td>\n",
       "      <td>68304.648438</td>\n",
       "      <td>20906.0</td>\n",
       "      <td>154.230011</td>\n",
       "      <td>43.200001</td>\n",
       "      <td>36.119999</td>\n",
       "    </tr>\n",
       "  </tbody>\n",
       "</table>\n",
       "</div>"
      ],
      "text/plain": [
       "   Time          FSC-A         FSC-H     FSC-W          SSC-A         SSC-H  \\\n",
       "0   0.0  258864.437500  96190.578125  176368.0   79497.898438  89890.687500   \n",
       "1   0.0  111398.281250  74335.093750   98212.0   40277.148438  70344.398438   \n",
       "2   0.1   83984.757812  71921.718750   76528.0   17564.548828  68698.398438   \n",
       "3   0.1  262143.000000  77287.625000  222284.0  102825.148438  94332.671875   \n",
       "4   0.1   94355.437500  71006.570312   87086.0   21789.199219  68304.648438   \n",
       "\n",
       "     SSC-W     HV 450-A         PE-A        APC-A  \n",
       "0  57959.0  7806.560059  2841.600098  2076.479980  \n",
       "1  37524.0   861.360046  4878.399902  1773.239990  \n",
       "2  16756.0  3987.670166     4.000000   395.639984  \n",
       "3  71436.0  5668.680176   343.200012  1406.159912  \n",
       "4  20906.0   154.230011    43.200001    36.119999  "
      ]
     },
     "execution_count": 5,
     "metadata": {},
     "output_type": "execute_result"
    }
   ],
   "source": [
    "sample.data.head()\n"
   ]
  },
  {
   "cell_type": "code",
   "execution_count": 6,
   "id": "bab1664d-c6ad-4873-8c37-2846b4fc446f",
   "metadata": {},
   "outputs": [
    {
     "ename": "KeyError",
     "evalue": "'FL2-A'",
     "output_type": "error",
     "traceback": [
      "\u001b[0;31m---------------------------------------------------------------------------\u001b[0m",
      "\u001b[0;31mKeyError\u001b[0m                                  Traceback (most recent call last)",
      "File \u001b[0;32m~/flow_analysis/venv/lib/python3.9/site-packages/pandas/core/indexes/base.py:3812\u001b[0m, in \u001b[0;36mIndex.get_loc\u001b[0;34m(self, key)\u001b[0m\n\u001b[1;32m   3811\u001b[0m \u001b[38;5;28;01mtry\u001b[39;00m:\n\u001b[0;32m-> 3812\u001b[0m     \u001b[38;5;28;01mreturn\u001b[39;00m \u001b[38;5;28;43mself\u001b[39;49m\u001b[38;5;241;43m.\u001b[39;49m\u001b[43m_engine\u001b[49m\u001b[38;5;241;43m.\u001b[39;49m\u001b[43mget_loc\u001b[49m\u001b[43m(\u001b[49m\u001b[43mcasted_key\u001b[49m\u001b[43m)\u001b[49m\n\u001b[1;32m   3813\u001b[0m \u001b[38;5;28;01mexcept\u001b[39;00m \u001b[38;5;167;01mKeyError\u001b[39;00m \u001b[38;5;28;01mas\u001b[39;00m err:\n",
      "File \u001b[0;32mpandas/_libs/index.pyx:167\u001b[0m, in \u001b[0;36mpandas._libs.index.IndexEngine.get_loc\u001b[0;34m()\u001b[0m\n",
      "File \u001b[0;32mpandas/_libs/index.pyx:196\u001b[0m, in \u001b[0;36mpandas._libs.index.IndexEngine.get_loc\u001b[0;34m()\u001b[0m\n",
      "File \u001b[0;32mpandas/_libs/hashtable_class_helper.pxi:7088\u001b[0m, in \u001b[0;36mpandas._libs.hashtable.PyObjectHashTable.get_item\u001b[0;34m()\u001b[0m\n",
      "File \u001b[0;32mpandas/_libs/hashtable_class_helper.pxi:7096\u001b[0m, in \u001b[0;36mpandas._libs.hashtable.PyObjectHashTable.get_item\u001b[0;34m()\u001b[0m\n",
      "\u001b[0;31mKeyError\u001b[0m: 'FL2-A'",
      "\nThe above exception was the direct cause of the following exception:\n",
      "\u001b[0;31mKeyError\u001b[0m                                  Traceback (most recent call last)",
      "Cell \u001b[0;32mIn[6], line 1\u001b[0m\n\u001b[0;32m----> 1\u001b[0m plt\u001b[38;5;241m.\u001b[39mhist(\u001b[43msample\u001b[49m\u001b[38;5;241;43m.\u001b[39;49m\u001b[43mdata\u001b[49m\u001b[43m[\u001b[49m\u001b[38;5;124;43m'\u001b[39;49m\u001b[38;5;124;43mFL2-A\u001b[39;49m\u001b[38;5;124;43m'\u001b[39;49m\u001b[43m]\u001b[49m, bins\u001b[38;5;241m=\u001b[39m\u001b[38;5;241m100\u001b[39m)\n\u001b[1;32m      2\u001b[0m plt\u001b[38;5;241m.\u001b[39mxlabel(\u001b[38;5;124m'\u001b[39m\u001b[38;5;124mFL2-A intensity\u001b[39m\u001b[38;5;124m'\u001b[39m)\n\u001b[1;32m      3\u001b[0m plt\u001b[38;5;241m.\u001b[39mylabel(\u001b[38;5;124m'\u001b[39m\u001b[38;5;124mEvent count\u001b[39m\u001b[38;5;124m'\u001b[39m)\n",
      "File \u001b[0;32m~/flow_analysis/venv/lib/python3.9/site-packages/pandas/core/frame.py:4107\u001b[0m, in \u001b[0;36mDataFrame.__getitem__\u001b[0;34m(self, key)\u001b[0m\n\u001b[1;32m   4105\u001b[0m \u001b[38;5;28;01mif\u001b[39;00m \u001b[38;5;28mself\u001b[39m\u001b[38;5;241m.\u001b[39mcolumns\u001b[38;5;241m.\u001b[39mnlevels \u001b[38;5;241m>\u001b[39m \u001b[38;5;241m1\u001b[39m:\n\u001b[1;32m   4106\u001b[0m     \u001b[38;5;28;01mreturn\u001b[39;00m \u001b[38;5;28mself\u001b[39m\u001b[38;5;241m.\u001b[39m_getitem_multilevel(key)\n\u001b[0;32m-> 4107\u001b[0m indexer \u001b[38;5;241m=\u001b[39m \u001b[38;5;28;43mself\u001b[39;49m\u001b[38;5;241;43m.\u001b[39;49m\u001b[43mcolumns\u001b[49m\u001b[38;5;241;43m.\u001b[39;49m\u001b[43mget_loc\u001b[49m\u001b[43m(\u001b[49m\u001b[43mkey\u001b[49m\u001b[43m)\u001b[49m\n\u001b[1;32m   4108\u001b[0m \u001b[38;5;28;01mif\u001b[39;00m is_integer(indexer):\n\u001b[1;32m   4109\u001b[0m     indexer \u001b[38;5;241m=\u001b[39m [indexer]\n",
      "File \u001b[0;32m~/flow_analysis/venv/lib/python3.9/site-packages/pandas/core/indexes/base.py:3819\u001b[0m, in \u001b[0;36mIndex.get_loc\u001b[0;34m(self, key)\u001b[0m\n\u001b[1;32m   3814\u001b[0m     \u001b[38;5;28;01mif\u001b[39;00m \u001b[38;5;28misinstance\u001b[39m(casted_key, \u001b[38;5;28mslice\u001b[39m) \u001b[38;5;129;01mor\u001b[39;00m (\n\u001b[1;32m   3815\u001b[0m         \u001b[38;5;28misinstance\u001b[39m(casted_key, abc\u001b[38;5;241m.\u001b[39mIterable)\n\u001b[1;32m   3816\u001b[0m         \u001b[38;5;129;01mand\u001b[39;00m \u001b[38;5;28many\u001b[39m(\u001b[38;5;28misinstance\u001b[39m(x, \u001b[38;5;28mslice\u001b[39m) \u001b[38;5;28;01mfor\u001b[39;00m x \u001b[38;5;129;01min\u001b[39;00m casted_key)\n\u001b[1;32m   3817\u001b[0m     ):\n\u001b[1;32m   3818\u001b[0m         \u001b[38;5;28;01mraise\u001b[39;00m InvalidIndexError(key)\n\u001b[0;32m-> 3819\u001b[0m     \u001b[38;5;28;01mraise\u001b[39;00m \u001b[38;5;167;01mKeyError\u001b[39;00m(key) \u001b[38;5;28;01mfrom\u001b[39;00m\u001b[38;5;250m \u001b[39m\u001b[38;5;21;01merr\u001b[39;00m\n\u001b[1;32m   3820\u001b[0m \u001b[38;5;28;01mexcept\u001b[39;00m \u001b[38;5;167;01mTypeError\u001b[39;00m:\n\u001b[1;32m   3821\u001b[0m     \u001b[38;5;66;03m# If we have a listlike key, _check_indexing_error will raise\u001b[39;00m\n\u001b[1;32m   3822\u001b[0m     \u001b[38;5;66;03m#  InvalidIndexError. Otherwise we fall through and re-raise\u001b[39;00m\n\u001b[1;32m   3823\u001b[0m     \u001b[38;5;66;03m#  the TypeError.\u001b[39;00m\n\u001b[1;32m   3824\u001b[0m     \u001b[38;5;28mself\u001b[39m\u001b[38;5;241m.\u001b[39m_check_indexing_error(key)\n",
      "\u001b[0;31mKeyError\u001b[0m: 'FL2-A'"
     ]
    }
   ],
   "source": [
    "plt.hist(sample.data['FL2-A'], bins=100)\n",
    "plt.xlabel('FL2-A intensity')\n",
    "plt.ylabel('Event count')\n",
    "plt.show()\n"
   ]
  },
  {
   "cell_type": "code",
   "execution_count": 7,
   "id": "b9e68545-c67f-42e1-ae5c-da554c06df6b",
   "metadata": {},
   "outputs": [
    {
     "name": "stdout",
     "output_type": "stream",
     "text": [
      "('Time', 'FSC-A', 'FSC-H', 'FSC-W', 'SSC-A', 'SSC-H', 'SSC-W', 'HV 450-A', 'PE-A', 'APC-A')\n"
     ]
    }
   ],
   "source": [
    "print(sample.channel_names)\n"
   ]
  },
  {
   "cell_type": "code",
   "execution_count": 8,
   "id": "31a188c2-a801-4fd0-bbd5-fe70329f0d49",
   "metadata": {},
   "outputs": [
    {
     "data": {
      "image/png": "[encoded data removed]",
      "text/plain": [
       "<Figure size 640x480 with 1 Axes>"
      ]
     },
     "metadata": {},
     "output_type": "display_data"
    }
   ],
   "source": [
    "plt.hist(sample.data['PE-A'], bins=100)\n",
    "plt.xlabel('PE-A intensity')\n",
    "plt.ylabel('Event count')\n",
    "plt.show()\n"
   ]
  },
  {
   "cell_type": "code",
   "execution_count": 9,
   "id": "077aec50-5b52-412a-a8fb-eb3e455ae79c",
   "metadata": {},
   "outputs": [
    {
     "data": {
      "image/png": "[encoded data removed]",
      "text/plain": [
       "<Figure size 640x480 with 1 Axes>"
      ]
     },
     "metadata": {},
     "output_type": "display_data"
    }
   ],
   "source": [
    "plt.hist(sample.data['HV 450-A'], bins=100)\n",
    "plt.xlabel('HV 450-A intensity')\n",
    "plt.ylabel('Event count')\n",
    "plt.show()\n"
   ]
  },
  {
   "cell_type": "code",
   "execution_count": 1,
   "id": "7fd693e3-f50c-40d3-a868-f6958b3638ff",
   "metadata": {},
   "outputs": [
    {
     "name": "stdout",
     "output_type": "stream",
     "text": [
      "/Users/colinktran/flow_analysis\n"
     ]
    }
   ],
   "source": [
    "!pwd\n"
   ]
  },
  {
   "cell_type": "code",
   "execution_count": 2,
   "id": "50fcd856-9b95-4218-92fc-2164b4754718",
   "metadata": {},
   "outputs": [
    {
     "name": "stdout",
     "output_type": "stream",
     "text": [
      "First experiment.ipynb \u001b[34mvenv\u001b[m\u001b[m\n"
     ]
    }
   ],
   "source": [
    "!ls\n"
   ]
  },
  {
   "cell_type": "code",
   "execution_count": null,
   "id": "f8380da7-d3ef-432c-a487-15efff386b84",
   "metadata": {},
   "outputs": [],
   "source": []
  }
 ],
 "metadata": {
  "kernelspec": {
   "display_name": "Python 3 (ipykernel)",
   "language": "python",
   "name": "python3"
  },
  "language_info": {
   "codemirror_mode": {
    "name": "ipython",
    "version": 3
   },
   "file_extension": ".py",
   "mimetype": "text/x-python",
   "name": "python",
   "nbconvert_exporter": "python",
   "pygments_lexer": "ipython3",
   "version": "3.9.3"
  }
 },
 "nbformat": 4,
 "nbformat_minor": 5
}
